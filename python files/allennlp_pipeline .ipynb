{
 "cells": [
  {
   "cell_type": "code",
   "execution_count": 1,
   "metadata": {
    "colab": {
     "base_uri": "https://localhost:8080/"
    },
    "id": "6fnRGiFzrQX8",
    "outputId": "3f7547cc-982e-4af7-a597-6a912dd439ed"
   },
   "outputs": [
    {
     "name": "stdout",
     "output_type": "stream",
     "text": [
      "Requirement already satisfied: allennlp==1.0.0 in /home/parth/anaconda3/lib/python3.8/site-packages (1.0.0)\n",
      "Requirement already satisfied: allennlp-models==1.0.0 in /home/parth/anaconda3/lib/python3.8/site-packages (1.0.0)\n",
      "Requirement already satisfied: nltk in /home/parth/anaconda3/lib/python3.8/site-packages (from allennlp==1.0.0) (3.5)\n",
      "Requirement already satisfied: requests>=2.18 in /home/parth/anaconda3/lib/python3.8/site-packages (from allennlp==1.0.0) (2.24.0)\n",
      "Requirement already satisfied: scikit-learn in /home/parth/anaconda3/lib/python3.8/site-packages (from allennlp==1.0.0) (0.23.1)\n",
      "Requirement already satisfied: tensorboardX>=1.2 in /home/parth/anaconda3/lib/python3.8/site-packages (from allennlp==1.0.0) (2.1)\n",
      "Requirement already satisfied: tqdm>=4.19 in /home/parth/anaconda3/lib/python3.8/site-packages (from allennlp==1.0.0) (4.47.0)\n",
      "Requirement already satisfied: transformers<2.12,>=2.9 in /home/parth/anaconda3/lib/python3.8/site-packages (from allennlp==1.0.0) (2.11.0)\n",
      "Requirement already satisfied: boto3 in /home/parth/anaconda3/lib/python3.8/site-packages (from allennlp==1.0.0) (1.16.19)\n",
      "Requirement already satisfied: numpy in /home/parth/anaconda3/lib/python3.8/site-packages (from allennlp==1.0.0) (1.18.5)\n",
      "Requirement already satisfied: scipy in /home/parth/anaconda3/lib/python3.8/site-packages (from allennlp==1.0.0) (1.5.0)\n",
      "Requirement already satisfied: filelock<3.1,>=3.0 in /home/parth/anaconda3/lib/python3.8/site-packages (from allennlp==1.0.0) (3.0.12)\n",
      "Requirement already satisfied: jsonnet>=0.10.0; sys_platform != \"win32\" in /home/parth/anaconda3/lib/python3.8/site-packages (from allennlp==1.0.0) (0.16.0)\n",
      "Requirement already satisfied: torch<1.6.0,>=1.5.0 in /home/parth/anaconda3/lib/python3.8/site-packages (from allennlp==1.0.0) (1.5.1)\n",
      "Requirement already satisfied: h5py in /home/parth/anaconda3/lib/python3.8/site-packages (from allennlp==1.0.0) (2.10.0)\n",
      "Requirement already satisfied: overrides==3.0.0 in /home/parth/anaconda3/lib/python3.8/site-packages (from allennlp==1.0.0) (3.0.0)\n",
      "Requirement already satisfied: pytest in /home/parth/anaconda3/lib/python3.8/site-packages (from allennlp==1.0.0) (5.4.3)\n",
      "Requirement already satisfied: spacy<2.3,>=2.1.0 in /home/parth/anaconda3/lib/python3.8/site-packages (from allennlp==1.0.0) (2.2.4)\n",
      "Requirement already satisfied: jsonpickle in /home/parth/anaconda3/lib/python3.8/site-packages (from allennlp==1.0.0) (1.4.1)\n",
      "Requirement already satisfied: py-rouge==1.1 in /home/parth/anaconda3/lib/python3.8/site-packages (from allennlp-models==1.0.0) (1.1)\n",
      "Requirement already satisfied: conllu==3.0 in /home/parth/anaconda3/lib/python3.8/site-packages (from allennlp-models==1.0.0) (3.0)\n",
      "Requirement already satisfied: word2number>=1.1 in /home/parth/anaconda3/lib/python3.8/site-packages (from allennlp-models==1.0.0) (1.1)\n",
      "Requirement already satisfied: click in /home/parth/anaconda3/lib/python3.8/site-packages (from nltk->allennlp==1.0.0) (7.1.2)\n",
      "Requirement already satisfied: regex in /home/parth/anaconda3/lib/python3.8/site-packages (from nltk->allennlp==1.0.0) (2020.6.8)\n",
      "Requirement already satisfied: joblib in /home/parth/anaconda3/lib/python3.8/site-packages (from nltk->allennlp==1.0.0) (0.16.0)\n",
      "Requirement already satisfied: idna<3,>=2.5 in /home/parth/anaconda3/lib/python3.8/site-packages (from requests>=2.18->allennlp==1.0.0) (2.10)\n",
      "Requirement already satisfied: certifi>=2017.4.17 in /home/parth/anaconda3/lib/python3.8/site-packages (from requests>=2.18->allennlp==1.0.0) (2020.6.20)\n",
      "Requirement already satisfied: chardet<4,>=3.0.2 in /home/parth/anaconda3/lib/python3.8/site-packages (from requests>=2.18->allennlp==1.0.0) (3.0.4)\n",
      "Requirement already satisfied: urllib3!=1.25.0,!=1.25.1,<1.26,>=1.21.1 in /home/parth/anaconda3/lib/python3.8/site-packages (from requests>=2.18->allennlp==1.0.0) (1.25.9)\n",
      "Requirement already satisfied: threadpoolctl>=2.0.0 in /home/parth/anaconda3/lib/python3.8/site-packages (from scikit-learn->allennlp==1.0.0) (2.1.0)\n",
      "Requirement already satisfied: protobuf>=3.8.0 in /home/parth/anaconda3/lib/python3.8/site-packages (from tensorboardX>=1.2->allennlp==1.0.0) (3.14.0)\n",
      "Requirement already satisfied: six in /home/parth/anaconda3/lib/python3.8/site-packages (from tensorboardX>=1.2->allennlp==1.0.0) (1.15.0)\n",
      "Requirement already satisfied: packaging in /home/parth/anaconda3/lib/python3.8/site-packages (from transformers<2.12,>=2.9->allennlp==1.0.0) (20.4)\n",
      "Requirement already satisfied: sacremoses in /home/parth/anaconda3/lib/python3.8/site-packages (from transformers<2.12,>=2.9->allennlp==1.0.0) (0.0.43)\n",
      "Requirement already satisfied: tokenizers==0.7.0 in /home/parth/anaconda3/lib/python3.8/site-packages (from transformers<2.12,>=2.9->allennlp==1.0.0) (0.7.0)\n",
      "Requirement already satisfied: sentencepiece in /home/parth/anaconda3/lib/python3.8/site-packages (from transformers<2.12,>=2.9->allennlp==1.0.0) (0.1.94)\n",
      "Requirement already satisfied: botocore<1.20.0,>=1.19.19 in /home/parth/anaconda3/lib/python3.8/site-packages (from boto3->allennlp==1.0.0) (1.19.19)\n",
      "Requirement already satisfied: s3transfer<0.4.0,>=0.3.0 in /home/parth/anaconda3/lib/python3.8/site-packages (from boto3->allennlp==1.0.0) (0.3.3)\n",
      "Requirement already satisfied: jmespath<1.0.0,>=0.7.1 in /home/parth/anaconda3/lib/python3.8/site-packages (from boto3->allennlp==1.0.0) (0.10.0)\n",
      "Requirement already satisfied: future in /home/parth/anaconda3/lib/python3.8/site-packages (from torch<1.6.0,>=1.5.0->allennlp==1.0.0) (0.18.2)\n",
      "Requirement already satisfied: py>=1.5.0 in /home/parth/anaconda3/lib/python3.8/site-packages (from pytest->allennlp==1.0.0) (1.9.0)\n",
      "Requirement already satisfied: attrs>=17.4.0 in /home/parth/anaconda3/lib/python3.8/site-packages (from pytest->allennlp==1.0.0) (19.3.0)\n",
      "Requirement already satisfied: more-itertools>=4.0.0 in /home/parth/anaconda3/lib/python3.8/site-packages (from pytest->allennlp==1.0.0) (8.4.0)\n",
      "Requirement already satisfied: pluggy<1.0,>=0.12 in /home/parth/anaconda3/lib/python3.8/site-packages (from pytest->allennlp==1.0.0) (0.13.1)\n",
      "Requirement already satisfied: wcwidth in /home/parth/anaconda3/lib/python3.8/site-packages (from pytest->allennlp==1.0.0) (0.2.5)\n",
      "Requirement already satisfied: murmurhash<1.1.0,>=0.28.0 in /home/parth/anaconda3/lib/python3.8/site-packages (from spacy<2.3,>=2.1.0->allennlp==1.0.0) (1.0.4)\n",
      "Requirement already satisfied: setuptools in /home/parth/anaconda3/lib/python3.8/site-packages (from spacy<2.3,>=2.1.0->allennlp==1.0.0) (49.2.0.post20200714)\n",
      "Requirement already satisfied: blis<0.5.0,>=0.4.0 in /home/parth/anaconda3/lib/python3.8/site-packages (from spacy<2.3,>=2.1.0->allennlp==1.0.0) (0.4.1)\n",
      "Requirement already satisfied: srsly<1.1.0,>=1.0.2 in /home/parth/anaconda3/lib/python3.8/site-packages (from spacy<2.3,>=2.1.0->allennlp==1.0.0) (1.0.4)\n",
      "Requirement already satisfied: preshed<3.1.0,>=3.0.2 in /home/parth/anaconda3/lib/python3.8/site-packages (from spacy<2.3,>=2.1.0->allennlp==1.0.0) (3.0.4)\n",
      "Requirement already satisfied: plac<1.2.0,>=0.9.6 in /home/parth/anaconda3/lib/python3.8/site-packages (from spacy<2.3,>=2.1.0->allennlp==1.0.0) (1.1.3)\n",
      "Requirement already satisfied: catalogue<1.1.0,>=0.0.7 in /home/parth/anaconda3/lib/python3.8/site-packages (from spacy<2.3,>=2.1.0->allennlp==1.0.0) (1.0.0)\n",
      "Requirement already satisfied: thinc==7.4.0 in /home/parth/anaconda3/lib/python3.8/site-packages (from spacy<2.3,>=2.1.0->allennlp==1.0.0) (7.4.0)\n",
      "Requirement already satisfied: wasabi<1.1.0,>=0.4.0 in /home/parth/anaconda3/lib/python3.8/site-packages (from spacy<2.3,>=2.1.0->allennlp==1.0.0) (0.8.0)\n",
      "Requirement already satisfied: cymem<2.1.0,>=2.0.2 in /home/parth/anaconda3/lib/python3.8/site-packages (from spacy<2.3,>=2.1.0->allennlp==1.0.0) (2.0.4)\n",
      "Requirement already satisfied: importlib-metadata in /home/parth/anaconda3/lib/python3.8/site-packages (from jsonpickle->allennlp==1.0.0) (1.7.0)\n",
      "Requirement already satisfied: pyparsing>=2.0.2 in /home/parth/anaconda3/lib/python3.8/site-packages (from packaging->transformers<2.12,>=2.9->allennlp==1.0.0) (2.4.7)\n",
      "Requirement already satisfied: python-dateutil<3.0.0,>=2.1 in /home/parth/anaconda3/lib/python3.8/site-packages (from botocore<1.20.0,>=1.19.19->boto3->allennlp==1.0.0) (2.8.1)\n",
      "Requirement already satisfied: zipp>=0.5 in /home/parth/anaconda3/lib/python3.8/site-packages (from importlib-metadata->jsonpickle->allennlp==1.0.0) (3.1.0)\n"
     ]
    }
   ],
   "source": [
    "!pip install allennlp==1.0.0 allennlp-models==1.0.0"
   ]
  },
  {
   "cell_type": "code",
   "execution_count": 2,
   "metadata": {
    "colab": {
     "base_uri": "https://localhost:8080/"
    },
    "id": "vKgUGKSArSKh",
    "outputId": "d86d9bb3-5882-4d54-a30f-e847c9e1d04d"
   },
   "outputs": [
    {
     "name": "stderr",
     "output_type": "stream",
     "text": [
      "Did not use initialization regex that was passed: .*token_embedder_tokens\\._projection.*weight\n"
     ]
    },
    {
     "name": "stdout",
     "output_type": "stream",
     "text": [
      "[0.0003390875644981861, 0.9735872745513916, 0.026073554530739784]\n"
     ]
    }
   ],
   "source": [
    "from allennlp.predictors.predictor import Predictor\n",
    "import allennlp_models.pair_classification\n",
    "predictor = Predictor.from_path(\"https://storage.googleapis.com/allennlp-public-models/decomposable-attention-elmo-2020.04.09.tar.gz\", \"textual_entailment\")\n",
    "a = predictor.predict(\n",
    "  hypothesis=\"Two women are sitting on a blanket near some rocks talking about politics.\",\n",
    "  premise=\"Two women are wandering along the shore drinking iced tea.\"\n",
    ")\n",
    "print(a['label_probs'])"
   ]
  },
  {
   "cell_type": "code",
   "execution_count": 4,
   "metadata": {
    "colab": {
     "base_uri": "https://localhost:8080/",
     "height": 1000
    },
    "id": "DkvtghOYrnNF",
    "outputId": "afd0ae8d-4b95-4890-fcdb-668d21366989"
   },
   "outputs": [
    {
     "data": {
      "text/html": [
       "<div>\n",
       "<style scoped>\n",
       "    .dataframe tbody tr th:only-of-type {\n",
       "        vertical-align: middle;\n",
       "    }\n",
       "\n",
       "    .dataframe tbody tr th {\n",
       "        vertical-align: top;\n",
       "    }\n",
       "\n",
       "    .dataframe thead th {\n",
       "        text-align: right;\n",
       "    }\n",
       "</style>\n",
       "<table border=\"1\" class=\"dataframe\">\n",
       "  <thead>\n",
       "    <tr style=\"text-align: right;\">\n",
       "      <th></th>\n",
       "      <th>_This was a bill in equity filed by 'His Excellency Edward Telfair, Esq._In order to support a motion for an injunction, the bill should set forth a case of probable right, and a probable danger that the right would be defeated, without this special interposition of the court._It does not appear to me, that the present bill sufficiently claims such an interposition._If the State has a right to the debt in question, it may be enforced at common law, notwithstanding the judgment of the Circuit court; and there is no suggestion in the bill, though it has been suggested at the bar, that the State is likely to lose her right by the insolvency either of Spalding, the original debtor, or of Brailsford, who will become her debtor for the amount, if he receives it, when in law he ought not to receive, or retain, it._Nor does the bill state any particular confederacy, or fraud._The refusal to admit the Attorney General as a party on the record, was the act of a competent court; and it is not sufficient barely to alledge, that the defendant has not chosen to sue out a writ of error._The case might, perhaps, be made better; but as I can only know, at present, the facts which the bill alledges, and which the affidavit supports, it is my opinion, that there is not a proper foundation for issuing an injunction._The debt claimed by the plaintiffs below, was, likewise, claimed by the State of Georgia._The State applied to be admitted to affect her claim, but the application was rejected; nor has any writ of error been instituted upon the judgment._These facts, however, are only mentioned to introduce this remark, that the Circuit court could not, with propriety, sustain the application of Georgia; because, whenever a State is a party, the Supreme court has exclusive jurisdiction of the suit; and her right cannot be effectually supported, by a voluntary appearance, before any other tribunal of the Union._Not being a party, nor capable of resorting as a party, to the Circuit court, it is very much to be questioned whether the State could bring a writ of error on the judgment there, even if her claim appeared on the record._Every principle of law, justice, and honor, however, seem to require, that the claim of the State of Georgia should not be, indirectly, decided, or defeated, by a judgment pronounced between parties, over whom she had no control, and upon a trial, in which she was not allowed to be heard._If, indeed, the court could not devise a mode, for admitting a fair investigation and determination upon that claim, it would be useless to grant an injunction: But I think a mode may easily be prescribed, in strict conformity with the practice and principles of equity._It was in the power of the defendant in the Circuit court, to have filed a bill of interpleader, in order, for his own safety, to settle the rights of the contending parties; but neither in that form, nor by instituting a suit herself, could Georgia have derived the benefit of supporting her claim in her own way, before any other than the Supreme court._In this court, therefore, we ought now to place the State upon the same footing, as if a bill of interpleader had been regularly filed here; which can be done by sustaining the present suit; and when the parties are all before us, we may direct a proper issue to be formed, and tried at the bar._Thus, justice will be done to Georgia, and an irreparable injury may be prevented; while the adverse party, even if he ultimately succeeds, can only complain of a short delay._With this view, I think, that an injunction should be awarded to stay the money in the hands of the marshall, till this court shall make a further order on the subject._An application was made to the Circuit court, in the nature of a claim to interplead; but being refused, her alternative, under all the circumstances of the case, is an appeal to the equitable jurisdiction of the Supreme [2 U.S. 402, 407]  court._It is true, perhaps, as the counsel has suggested, that the defendant below pleaded the confiscation act of Georgia in bar to the action; but it is a sufficient answer to this argument, that the State was not a party; and no right can be defeated, in law, unless the party claiming it, has himself an opportunity to support it._If the State of Georgia was entitled to the bond, she is equally entitled to the money levied by the marshall in satisfaction of the bond, or rather of the judgment rendered upon it: And as the execution directs the marshall to pay the amount to the plaintiffs below, I can perceive no other mode of preventing a compliance, while we enquire into the right of receiving the money, than that of issuing an injunction to stay it in the hands of the officer._It appears to me to be too early, likewise, to pronounce an opinion upon the titles in collision; since it is enough, on a motion of this kind, to show a colorable title._The State of Georgia has set up her confiscation act, which certainly is a fair foundation for future judicial investigation; and that an injury may not be done, which it may be out of our power to repair, the injunction ought, I think, to issue, till we are enabled, by a full enquiry, to decide upon the whole merits of the case._If Georgia has a right to the bond, it is strictly a legal right; but to enforce a strictly legal right, the present seems, at the first blush, to be an awkward and irregular proceeding._Again: Georgia had not a right, or she had a right, to be admitted to a hearing in the Circuit court: but, in the former case, it would be no ground of complaint, that her application was rejected; for, she is bound by the law; and in the other case, she would be entitled to bring the subject before us, as a court of law; since she was refused the exercise of a legal right._It is true, that, under the Federal Constitution, an inferior tribunal cannot compel a State to appear as a party; but it is a very different proposition to say, that a State cannot, by her own consent, appear in any other court, than the Supreme court._The general rule applies among all sovereigns, who, as equals, are not amenable to courts of each other; and yet I remember an action was instututed and sustained, some years ago, in the name of Louis XVI._Under these impressions, I am disposed to think, that the State of Georgia ought rather to have sued out a writ of error, than to have asked for an injunction: But still, in the existing [2 U.S. 402, 408]  circumstances of the case, I have no objection to retain the money within the power of the court, 'till we can better satisfy ourselves both as to the remedy and the right._The Judicial act expressly declares, that 'suits in equity shall not be sustained, in either of the courts of the United States, in any case where plain, adequate, and complete remedy may be had at law.'_Now, if Georgia has any right to the debt in question, it is a right at law, for which, of course, the law will furnish a plain, adequate, and complete remedy._The decision of the Circuit court, in a case to which Georgia was neither party nor privy, did not, and could not, take away either the right or the remedy of the State._Nor can Spalding, the defendant below, be made liable twice, for the same debt, without his wilful laches._For, it is in his power to bring a writ of error; and then the whole merits of the claim of Georgia appearing on the record, we must decide it as a question of law, either by affirming or reversing the judgment, so as to bind us in any suit, which Georgia might institute for the same cause._Besides, the State of Georgia (notwithstanding the judgment of the Circuit court) may bring an action of indebitatus assumpsit against Brailsford (who is a man of fortune), after they have received the money, upon the principle of Mofes versus McFarland, and with stronger reason; as in that case the parties, in both courts, were the same; but, in the case proposed, they would be different, and one of them has never been heard._In some form, therefore, Georgia may obtain compleat redress at law._I do not, upon the whole, consider the refusal of Spalding to bring a writ of error (which he is not compellable to bring) nor any other suggestion in the bill, as a sufficient foundation for exercising the equitable jurisdiction of the court; and, consequently, I think that an injunction ought not to be awarded._The great question turns on the property of a certain bond; whether it belongs to Brailsford, or to Georgia?_It is put in suit by Brailsford; but if Georgia, by virtue of the confiscation act, is really entitled to the debt, she is entitled to the money, though the evidence of the debt happened to be in the possession of Brailsford, and though Brailsford has, by that means, obtained a judgment for the amount._Then the only point to be considered is whether, under these circumstances, it is not equitable to stay the money in the [2 U.S. 402, 409]  hands of the marshall, 'till the right to it is fairly decided; and so avoid the risque of putting the true owner to a suit, for the purpose of recovering it back?_For my part, I think that the money should remain in the custody of the law, till the law has adjudged to whom it belongs; and, therefore, I am content, that the injunction issue._The Attorney General (Randolph) who made the motion for the mandamus, having premised that it was done ex officio, without an application from any particular person, but with a view to procure the execution of an act of Congress, particularly interesting to a meritorious and unfortunate class of citizens, the Court declared that they entertained great doubt upon his right, under such circumstances, and in a case of this kind, to proceed, ex officio; and directed him to state the principles on which he attempted to support the right._The Attorney General, accordingly, entered into an elaborate description of the powers and duties of his office: But the Court being divided in opinion on that question, the motion, made ex officio, was not allowed._The Attorney General then changed the ground of his interposition, declaring it to be at the instance, and on behalf of Hayburn, a party interested; and he entered into the merits of the case, upon the act of Congress, and the refusal of the Judges to carry it into effect._The Court observed, that they would hold the motion under advisement, until the next term; but no decision was ever pronounced, as the Legislature, at an intermediate [2 U.S. 402, 410]  session; provided, in another way, for the relief of the pensioners._* [2 U.S. 402, 411]  The Circuit court for the district of Pennsylvania, (consisting of Wilson, and Blair, Justices, and Peters, District Judge) made the following representation, in a letter jointly addressed to the President of the United States, on the 18th of April, 1792._The Circuit court for the district of North Carolina, (consisting of Iredell, Justice, and Sitgreaves, District Judge) made the following representation in a letter jointly addressed to the President of the United States, on the 8th of June, 1792._THE Attorney-General having moved for information, relative to the system of practice by which the attorneys and counsellors of this court shall regulate themselves, and of the place in which rules in causes here depending shall be obtained, the CHIEF JUSTICE, at a subsequent day stated, that- THE COURT considers the practice of the courts of King's Bench and Chancery in England, as affording outlines for the practice of this court; and that they will, from time to time, make such alterations therein, as circumstances may render necessary._p. 1. as well on a motion to dissolve the Injunction, as on a trial of the merits, upon a seigned issue._As the reasons assigned by the Judges, for declining to execute the first act of Congress, involve a great Constitutional question, it will not be thought improper to subjoin them, in illustration of Hayburn's case._The Circuit court for the district of New York (consisting of Jay, Chief Justice, Cushing, Justice, and Duane, District Judge) proceeded on the 5th of April, 1791, to take into consideration the act of Congress entitled 'An act to provide for the settlement of the claims of widows, and orphans barred by the limitations heretofore established, and to regulate the claims to invalid pensions;' and were, thereupon, unanimously, of opinion and agreed._'The email address cannot be subscribed.</th>\n",
       "    </tr>\n",
       "  </thead>\n",
       "  <tbody>\n",
       "    <tr>\n",
       "      <th>0</th>\n",
       "      <td>_ 1 U.S. 406 (Dall.)_Johnson v. Hocker  Suprem...</td>\n",
       "    </tr>\n",
       "    <tr>\n",
       "      <th>1</th>\n",
       "      <td>_ 1 U.S. 409 (Dall.)_Steele v. Steele  Supreme...</td>\n",
       "    </tr>\n",
       "    <tr>\n",
       "      <th>2</th>\n",
       "      <td>_ 1 U.S. 411 (Dall.)_Schlosser v. Lesher  Cour...</td>\n",
       "    </tr>\n",
       "    <tr>\n",
       "      <th>3</th>\n",
       "      <td>_ 1 U.S. 415 (Dall.)_Kennedy v. Nedrow, et Ux....</td>\n",
       "    </tr>\n",
       "    <tr>\n",
       "      <th>4</th>\n",
       "      <td>_ 1 U.S. 420 (Dall.)_Supreme Court of Pennsylv...</td>\n",
       "    </tr>\n",
       "  </tbody>\n",
       "</table>\n",
       "</div>"
      ],
      "text/plain": [
       "  _This was a bill in equity filed by 'His Excellency Edward Telfair, Esq._In order to support a motion for an injunction, the bill should set forth a case of probable right, and a probable danger that the right would be defeated, without this special interposition of the court._It does not appear to me, that the present bill sufficiently claims such an interposition._If the State has a right to the debt in question, it may be enforced at common law, notwithstanding the judgment of the Circuit court; and there is no suggestion in the bill, though it has been suggested at the bar, that the State is likely to lose her right by the insolvency either of Spalding, the original debtor, or of Brailsford, who will become her debtor for the amount, if he receives it, when in law he ought not to receive, or retain, it._Nor does the bill state any particular confederacy, or fraud._The refusal to admit the Attorney General as a party on the record, was the act of a competent court; and it is not sufficient barely to alledge, that the defendant has not chosen to sue out a writ of error._The case might, perhaps, be made better; but as I can only know, at present, the facts which the bill alledges, and which the affidavit supports, it is my opinion, that there is not a proper foundation for issuing an injunction._The debt claimed by the plaintiffs below, was, likewise, claimed by the State of Georgia._The State applied to be admitted to affect her claim, but the application was rejected; nor has any writ of error been instituted upon the judgment._These facts, however, are only mentioned to introduce this remark, that the Circuit court could not, with propriety, sustain the application of Georgia; because, whenever a State is a party, the Supreme court has exclusive jurisdiction of the suit; and her right cannot be effectually supported, by a voluntary appearance, before any other tribunal of the Union._Not being a party, nor capable of resorting as a party, to the Circuit court, it is very much to be questioned whether the State could bring a writ of error on the judgment there, even if her claim appeared on the record._Every principle of law, justice, and honor, however, seem to require, that the claim of the State of Georgia should not be, indirectly, decided, or defeated, by a judgment pronounced between parties, over whom she had no control, and upon a trial, in which she was not allowed to be heard._If, indeed, the court could not devise a mode, for admitting a fair investigation and determination upon that claim, it would be useless to grant an injunction: But I think a mode may easily be prescribed, in strict conformity with the practice and principles of equity._It was in the power of the defendant in the Circuit court, to have filed a bill of interpleader, in order, for his own safety, to settle the rights of the contending parties; but neither in that form, nor by instituting a suit herself, could Georgia have derived the benefit of supporting her claim in her own way, before any other than the Supreme court._In this court, therefore, we ought now to place the State upon the same footing, as if a bill of interpleader had been regularly filed here; which can be done by sustaining the present suit; and when the parties are all before us, we may direct a proper issue to be formed, and tried at the bar._Thus, justice will be done to Georgia, and an irreparable injury may be prevented; while the adverse party, even if he ultimately succeeds, can only complain of a short delay._With this view, I think, that an injunction should be awarded to stay the money in the hands of the marshall, till this court shall make a further order on the subject._An application was made to the Circuit court, in the nature of a claim to interplead; but being refused, her alternative, under all the circumstances of the case, is an appeal to the equitable jurisdiction of the Supreme [2 U.S. 402, 407]  court._It is true, perhaps, as the counsel has suggested, that the defendant below pleaded the confiscation act of Georgia in bar to the action; but it is a sufficient answer to this argument, that the State was not a party; and no right can be defeated, in law, unless the party claiming it, has himself an opportunity to support it._If the State of Georgia was entitled to the bond, she is equally entitled to the money levied by the marshall in satisfaction of the bond, or rather of the judgment rendered upon it: And as the execution directs the marshall to pay the amount to the plaintiffs below, I can perceive no other mode of preventing a compliance, while we enquire into the right of receiving the money, than that of issuing an injunction to stay it in the hands of the officer._It appears to me to be too early, likewise, to pronounce an opinion upon the titles in collision; since it is enough, on a motion of this kind, to show a colorable title._The State of Georgia has set up her confiscation act, which certainly is a fair foundation for future judicial investigation; and that an injury may not be done, which it may be out of our power to repair, the injunction ought, I think, to issue, till we are enabled, by a full enquiry, to decide upon the whole merits of the case._If Georgia has a right to the bond, it is strictly a legal right; but to enforce a strictly legal right, the present seems, at the first blush, to be an awkward and irregular proceeding._Again: Georgia had not a right, or she had a right, to be admitted to a hearing in the Circuit court: but, in the former case, it would be no ground of complaint, that her application was rejected; for, she is bound by the law; and in the other case, she would be entitled to bring the subject before us, as a court of law; since she was refused the exercise of a legal right._It is true, that, under the Federal Constitution, an inferior tribunal cannot compel a State to appear as a party; but it is a very different proposition to say, that a State cannot, by her own consent, appear in any other court, than the Supreme court._The general rule applies among all sovereigns, who, as equals, are not amenable to courts of each other; and yet I remember an action was instututed and sustained, some years ago, in the name of Louis XVI._Under these impressions, I am disposed to think, that the State of Georgia ought rather to have sued out a writ of error, than to have asked for an injunction: But still, in the existing [2 U.S. 402, 408]  circumstances of the case, I have no objection to retain the money within the power of the court, 'till we can better satisfy ourselves both as to the remedy and the right._The Judicial act expressly declares, that 'suits in equity shall not be sustained, in either of the courts of the United States, in any case where plain, adequate, and complete remedy may be had at law.'_Now, if Georgia has any right to the debt in question, it is a right at law, for which, of course, the law will furnish a plain, adequate, and complete remedy._The decision of the Circuit court, in a case to which Georgia was neither party nor privy, did not, and could not, take away either the right or the remedy of the State._Nor can Spalding, the defendant below, be made liable twice, for the same debt, without his wilful laches._For, it is in his power to bring a writ of error; and then the whole merits of the claim of Georgia appearing on the record, we must decide it as a question of law, either by affirming or reversing the judgment, so as to bind us in any suit, which Georgia might institute for the same cause._Besides, the State of Georgia (notwithstanding the judgment of the Circuit court) may bring an action of indebitatus assumpsit against Brailsford (who is a man of fortune), after they have received the money, upon the principle of Mofes versus McFarland, and with stronger reason; as in that case the parties, in both courts, were the same; but, in the case proposed, they would be different, and one of them has never been heard._In some form, therefore, Georgia may obtain compleat redress at law._I do not, upon the whole, consider the refusal of Spalding to bring a writ of error (which he is not compellable to bring) nor any other suggestion in the bill, as a sufficient foundation for exercising the equitable jurisdiction of the court; and, consequently, I think that an injunction ought not to be awarded._The great question turns on the property of a certain bond; whether it belongs to Brailsford, or to Georgia?_It is put in suit by Brailsford; but if Georgia, by virtue of the confiscation act, is really entitled to the debt, she is entitled to the money, though the evidence of the debt happened to be in the possession of Brailsford, and though Brailsford has, by that means, obtained a judgment for the amount._Then the only point to be considered is whether, under these circumstances, it is not equitable to stay the money in the [2 U.S. 402, 409]  hands of the marshall, 'till the right to it is fairly decided; and so avoid the risque of putting the true owner to a suit, for the purpose of recovering it back?_For my part, I think that the money should remain in the custody of the law, till the law has adjudged to whom it belongs; and, therefore, I am content, that the injunction issue._The Attorney General (Randolph) who made the motion for the mandamus, having premised that it was done ex officio, without an application from any particular person, but with a view to procure the execution of an act of Congress, particularly interesting to a meritorious and unfortunate class of citizens, the Court declared that they entertained great doubt upon his right, under such circumstances, and in a case of this kind, to proceed, ex officio; and directed him to state the principles on which he attempted to support the right._The Attorney General, accordingly, entered into an elaborate description of the powers and duties of his office: But the Court being divided in opinion on that question, the motion, made ex officio, was not allowed._The Attorney General then changed the ground of his interposition, declaring it to be at the instance, and on behalf of Hayburn, a party interested; and he entered into the merits of the case, upon the act of Congress, and the refusal of the Judges to carry it into effect._The Court observed, that they would hold the motion under advisement, until the next term; but no decision was ever pronounced, as the Legislature, at an intermediate [2 U.S. 402, 410]  session; provided, in another way, for the relief of the pensioners._* [2 U.S. 402, 411]  The Circuit court for the district of Pennsylvania, (consisting of Wilson, and Blair, Justices, and Peters, District Judge) made the following representation, in a letter jointly addressed to the President of the United States, on the 18th of April, 1792._The Circuit court for the district of North Carolina, (consisting of Iredell, Justice, and Sitgreaves, District Judge) made the following representation in a letter jointly addressed to the President of the United States, on the 8th of June, 1792._THE Attorney-General having moved for information, relative to the system of practice by which the attorneys and counsellors of this court shall regulate themselves, and of the place in which rules in causes here depending shall be obtained, the CHIEF JUSTICE, at a subsequent day stated, that- THE COURT considers the practice of the courts of King's Bench and Chancery in England, as affording outlines for the practice of this court; and that they will, from time to time, make such alterations therein, as circumstances may render necessary._p. 1. as well on a motion to dissolve the Injunction, as on a trial of the merits, upon a seigned issue._As the reasons assigned by the Judges, for declining to execute the first act of Congress, involve a great Constitutional question, it will not be thought improper to subjoin them, in illustration of Hayburn's case._The Circuit court for the district of New York (consisting of Jay, Chief Justice, Cushing, Justice, and Duane, District Judge) proceeded on the 5th of April, 1791, to take into consideration the act of Congress entitled 'An act to provide for the settlement of the claims of widows, and orphans barred by the limitations heretofore established, and to regulate the claims to invalid pensions;' and were, thereupon, unanimously, of opinion and agreed._'The email address cannot be subscribed.\n",
       "0  _ 1 U.S. 406 (Dall.)_Johnson v. Hocker  Suprem...                                                                                                                                                                                                                                                                                                                                                                                                                                                                                                                                                                                                                                                                                                                                                                                                                                                                                                                                                                                                                                                                                                                                                                                                                                                                                                                                                                                                                                                                                                                                                                                                                                                                                                                                                                                                                                                                                                                                                                                                                                                                                                                                                                                                                                                                                                                                                                                                                                                                                                                                                                                                                                                                                                                                                                                                                                                                                                                                                                                                                                                                                                                                                                                                                                                                                                                                                                                                                                                                                                                                                                                                                                                                                                                                                                                                                                                                                                                                                                                                                                                                                                                                                                                                                                                                                                                                                                                                                                                                                                                                                                                                                                                                                                                                                                                                                                                                                                                                                                                                                                                                                                                                                                                                                                                                                                                                                                                                                                                                                                                                                                                                                                                                                                                                                                                                                                                                                                                                                                                                                                                                                                                                                                                                                                                                                                                                                                                                                                                                                                                                                                                                                                                                                                                                                                                                                                                                                                                                                                                                                                                                                                                                                                                                                                                                                                                                                                                                                                                                                                                                                                                                                                                                                                                                                                                                                                                                                                                                                                                                                                                                                                                                                                                                                                                                                                                                                                                                                                                                                                                                                                                                                                                                                                                                                                                                                                                                                                                                                                                                                                                                                                                                                                                                                                                                                                                                                                                                                                                                                                                                                                                                                                                                                                                                                                                                                                                                                                                                                                                                                                                                                                                                                                                                                                                                                                                                                                                                                                                                                                                                                                                                                                                                                                                                                                                                                                                                                                                                                                                                                                                                                                                                                                                                                                                                                                                                                                                                                                                                                                                                                                                                                                                                                                                                                                                                                                                                                                                                                                                                                                                                                                                                                                                                                                                                                                                                                                                                                                                                                                                                                                                                                                                                                                                                                                                                                                                                                                               \n",
       "1  _ 1 U.S. 409 (Dall.)_Steele v. Steele  Supreme...                                                                                                                                                                                                                                                                                                                                                                                                                                                                                                                                                                                                                                                                                                                                                                                                                                                                                                                                                                                                                                                                                                                                                                                                                                                                                                                                                                                                                                                                                                                                                                                                                                                                                                                                                                                                                                                                                                                                                                                                                                                                                                                                                                                                                                                                                                                                                                                                                                                                                                                                                                                                                                                                                                                                                                                                                                                                                                                                                                                                                                                                                                                                                                                                                                                                                                                                                                                                                                                                                                                                                                                                                                                                                                                                                                                                                                                                                                                                                                                                                                                                                                                                                                                                                                                                                                                                                                                                                                                                                                                                                                                                                                                                                                                                                                                                                                                                                                                                                                                                                                                                                                                                                                                                                                                                                                                                                                                                                                                                                                                                                                                                                                                                                                                                                                                                                                                                                                                                                                                                                                                                                                                                                                                                                                                                                                                                                                                                                                                                                                                                                                                                                                                                                                                                                                                                                                                                                                                                                                                                                                                                                                                                                                                                                                                                                                                                                                                                                                                                                                                                                                                                                                                                                                                                                                                                                                                                                                                                                                                                                                                                                                                                                                                                                                                                                                                                                                                                                                                                                                                                                                                                                                                                                                                                                                                                                                                                                                                                                                                                                                                                                                                                                                                                                                                                                                                                                                                                                                                                                                                                                                                                                                                                                                                                                                                                                                                                                                                                                                                                                                                                                                                                                                                                                                                                                                                                                                                                                                                                                                                                                                                                                                                                                                                                                                                                                                                                                                                                                                                                                                                                                                                                                                                                                                                                                                                                                                                                                                                                                                                                                                                                                                                                                                                                                                                                                                                                                                                                                                                                                                                                                                                                                                                                                                                                                                                                                                                                                                                                                                                                                                                                                                                                                                                                                                                                                                                                                                               \n",
       "2  _ 1 U.S. 411 (Dall.)_Schlosser v. Lesher  Cour...                                                                                                                                                                                                                                                                                                                                                                                                                                                                                                                                                                                                                                                                                                                                                                                                                                                                                                                                                                                                                                                                                                                                                                                                                                                                                                                                                                                                                                                                                                                                                                                                                                                                                                                                                                                                                                                                                                                                                                                                                                                                                                                                                                                                                                                                                                                                                                                                                                                                                                                                                                                                                                                                                                                                                                                                                                                                                                                                                                                                                                                                                                                                                                                                                                                                                                                                                                                                                                                                                                                                                                                                                                                                                                                                                                                                                                                                                                                                                                                                                                                                                                                                                                                                                                                                                                                                                                                                                                                                                                                                                                                                                                                                                                                                                                                                                                                                                                                                                                                                                                                                                                                                                                                                                                                                                                                                                                                                                                                                                                                                                                                                                                                                                                                                                                                                                                                                                                                                                                                                                                                                                                                                                                                                                                                                                                                                                                                                                                                                                                                                                                                                                                                                                                                                                                                                                                                                                                                                                                                                                                                                                                                                                                                                                                                                                                                                                                                                                                                                                                                                                                                                                                                                                                                                                                                                                                                                                                                                                                                                                                                                                                                                                                                                                                                                                                                                                                                                                                                                                                                                                                                                                                                                                                                                                                                                                                                                                                                                                                                                                                                                                                                                                                                                                                                                                                                                                                                                                                                                                                                                                                                                                                                                                                                                                                                                                                                                                                                                                                                                                                                                                                                                                                                                                                                                                                                                                                                                                                                                                                                                                                                                                                                                                                                                                                                                                                                                                                                                                                                                                                                                                                                                                                                                                                                                                                                                                                                                                                                                                                                                                                                                                                                                                                                                                                                                                                                                                                                                                                                                                                                                                                                                                                                                                                                                                                                                                                                                                                                                                                                                                                                                                                                                                                                                                                                                                                                                                                               \n",
       "3  _ 1 U.S. 415 (Dall.)_Kennedy v. Nedrow, et Ux....                                                                                                                                                                                                                                                                                                                                                                                                                                                                                                                                                                                                                                                                                                                                                                                                                                                                                                                                                                                                                                                                                                                                                                                                                                                                                                                                                                                                                                                                                                                                                                                                                                                                                                                                                                                                                                                                                                                                                                                                                                                                                                                                                                                                                                                                                                                                                                                                                                                                                                                                                                                                                                                                                                                                                                                                                                                                                                                                                                                                                                                                                                                                                                                                                                                                                                                                                                                                                                                                                                                                                                                                                                                                                                                                                                                                                                                                                                                                                                                                                                                                                                                                                                                                                                                                                                                                                                                                                                                                                                                                                                                                                                                                                                                                                                                                                                                                                                                                                                                                                                                                                                                                                                                                                                                                                                                                                                                                                                                                                                                                                                                                                                                                                                                                                                                                                                                                                                                                                                                                                                                                                                                                                                                                                                                                                                                                                                                                                                                                                                                                                                                                                                                                                                                                                                                                                                                                                                                                                                                                                                                                                                                                                                                                                                                                                                                                                                                                                                                                                                                                                                                                                                                                                                                                                                                                                                                                                                                                                                                                                                                                                                                                                                                                                                                                                                                                                                                                                                                                                                                                                                                                                                                                                                                                                                                                                                                                                                                                                                                                                                                                                                                                                                                                                                                                                                                                                                                                                                                                                                                                                                                                                                                                                                                                                                                                                                                                                                                                                                                                                                                                                                                                                                                                                                                                                                                                                                                                                                                                                                                                                                                                                                                                                                                                                                                                                                                                                                                                                                                                                                                                                                                                                                                                                                                                                                                                                                                                                                                                                                                                                                                                                                                                                                                                                                                                                                                                                                                                                                                                                                                                                                                                                                                                                                                                                                                                                                                                                                                                                                                                                                                                                                                                                                                                                                                                                                                                                                               \n",
       "4  _ 1 U.S. 420 (Dall.)_Supreme Court of Pennsylv...                                                                                                                                                                                                                                                                                                                                                                                                                                                                                                                                                                                                                                                                                                                                                                                                                                                                                                                                                                                                                                                                                                                                                                                                                                                                                                                                                                                                                                                                                                                                                                                                                                                                                                                                                                                                                                                                                                                                                                                                                                                                                                                                                                                                                                                                                                                                                                                                                                                                                                                                                                                                                                                                                                                                                                                                                                                                                                                                                                                                                                                                                                                                                                                                                                                                                                                                                                                                                                                                                                                                                                                                                                                                                                                                                                                                                                                                                                                                                                                                                                                                                                                                                                                                                                                                                                                                                                                                                                                                                                                                                                                                                                                                                                                                                                                                                                                                                                                                                                                                                                                                                                                                                                                                                                                                                                                                                                                                                                                                                                                                                                                                                                                                                                                                                                                                                                                                                                                                                                                                                                                                                                                                                                                                                                                                                                                                                                                                                                                                                                                                                                                                                                                                                                                                                                                                                                                                                                                                                                                                                                                                                                                                                                                                                                                                                                                                                                                                                                                                                                                                                                                                                                                                                                                                                                                                                                                                                                                                                                                                                                                                                                                                                                                                                                                                                                                                                                                                                                                                                                                                                                                                                                                                                                                                                                                                                                                                                                                                                                                                                                                                                                                                                                                                                                                                                                                                                                                                                                                                                                                                                                                                                                                                                                                                                                                                                                                                                                                                                                                                                                                                                                                                                                                                                                                                                                                                                                                                                                                                                                                                                                                                                                                                                                                                                                                                                                                                                                                                                                                                                                                                                                                                                                                                                                                                                                                                                                                                                                                                                                                                                                                                                                                                                                                                                                                                                                                                                                                                                                                                                                                                                                                                                                                                                                                                                                                                                                                                                                                                                                                                                                                                                                                                                                                                                                                                                                                                                                               "
      ]
     },
     "execution_count": 4,
     "metadata": {},
     "output_type": "execute_result"
    }
   ],
   "source": [
    "\n",
    "# import pandas as pd\n",
    "# from tqdm import tqdm\n",
    "# from google.colab import drive\n",
    "arguments = pd.read_csv('outputFile1.csv')\n",
    "arguments.head()\n"
   ]
  },
  {
   "cell_type": "code",
   "execution_count": null,
   "metadata": {
    "colab": {
     "base_uri": "https://localhost:8080/",
     "height": 120
    },
    "id": "04ziGSllO64h",
    "outputId": "912ad06d-09fa-4ad6-9b07-927c1fcb35aa"
   },
   "outputs": [],
   "source": [
    "arguments.iloc[5][0]"
   ]
  },
  {
   "cell_type": "code",
   "execution_count": 7,
   "metadata": {
    "colab": {
     "base_uri": "https://localhost:8080/"
    },
    "id": "n5l2o2CkVgze",
    "outputId": "1706416f-1266-4342-8d46-6ae2e1df431c"
   },
   "outputs": [
    {
     "name": "stdout",
     "output_type": "stream",
     "text": [
      "Mounted at /content/gdrive/\n"
     ]
    }
   ],
   "source": [
    "from google.colab import drive\n",
    "drive.mount('/content/gdrive/')"
   ]
  },
  {
   "cell_type": "code",
   "execution_count": 8,
   "metadata": {
    "id": "5vmm6vnyVtQB"
   },
   "outputs": [],
   "source": [
    "psd = pd.read_csv('/content/gdrive/MyDrive/data.csv')"
   ]
  },
  {
   "cell_type": "code",
   "execution_count": 10,
   "metadata": {
    "colab": {
     "base_uri": "https://localhost:8080/",
     "height": 1000
    },
    "id": "qHrI1dmFWHj3",
    "outputId": "6deab548-abc6-423a-a079-398e3a68ee59"
   },
   "outputs": [
    {
     "data": {
      "application/vnd.google.colaboratory.intrinsic+json": {
       "type": "string"
      },
      "text/plain": [
       "\"Internet Explorer 11 is no longer supported. We recommend using\\n            Google Chrome,\\n            Firefox, or\\n            Microsoft Edge. This was a bill in equity filed by 'His Excellency Edward Telfair, Esq. governor and commander in chief in and over the state of Georgia, in behalf of the said State, complainant;' against Samuel Brailsford, Robert Wm. Powell, and John Hopton, merchants and co-partners, and James Spalding, surviving partner of Kelsall & Spalding, defendants. The bill set forth the following case: \\n Johnson, Justice. In order to support a motion for an injunction, the bill should set forth a case of probable right, and a probable danger that the right would be defeated, without this special interposition of the court. It does not appear to me, that the present bill sufficiently claims such an interposition. If the State has a right to the debt in question, it may be enforced at common law, notwithstanding the judgment of the Circuit court; and there is no suggestion in the bill, though it has been suggested at the bar, that the State is likely to lose her right by the insolvency either of Spalding, the original debtor, or of Brailsford, who will become her debtor for the amount, if he receives it, when in law he ought not to receive, or retain, it. Nor does the bill state any particular confederacy, or fraud. The refusal to admit the Attorney General as a party on the record, was the act of a competent court; and it is not sufficient barely to alledge, that the defendant has not chosen to sue out a writ of error. The case might, perhaps, be made better; but as I can only know, at present, the facts which the bill alledges, and which the affidavit supports, it is my opinion, that there is not a proper foundation for issuing an injunction. \\n Iredell, Justice. I sat in the Circuit court, when the judgment was rendered in the case of Brailsford and others versus \\n\\n[2 U.S. 402, 406]\\n\\xa0\\n Spalding; but I shall give my opinion, on the present motion, detached from every previous consideration of the merits of the cause. The debt claimed by the plaintiffs below, was, likewise, claimed by the State of Georgia. The State applied to be admitted to affect her claim, but the application was rejected; nor has any writ of error been instituted upon the judgment. These facts, however, are only mentioned to introduce this remark, that the Circuit court could not, with propriety, sustain the application of Georgia; because, whenever a State is a party, the Supreme court has exclusive jurisdiction of the suit; and her right cannot be effectually supported, by a voluntary appearance, before any other tribunal of the Union. Not being a party, nor capable of resorting as a party, to the Circuit court, it is very much to be questioned whether the State could bring a writ of error on the judgment there, even if her claim appeared on the record. Every principle of law, justice, and honor, however, seem to require, that the claim of the State of Georgia should not be, indirectly, decided, or defeated, by a judgment pronounced between parties, over whom she had no control, and upon a trial, in which she was not allowed to be heard. If, indeed, the court could not devise a mode, for admitting a fair investigation and determination upon that claim, it would be useless to grant an injunction: But I think a mode may easily be prescribed, in strict conformity with the practice and principles of equity. It was in the power of the defendant in the Circuit court, to have filed a bill of interpleader, in order, for his own safety, to settle the rights of the contending parties; but neither in that form, nor by instituting a suit herself, could Georgia have derived the benefit of supporting her claim in her own way, before any other than the Supreme court. In this court, therefore, we ought now to place the State upon the same footing, as if a bill of interpleader had been regularly filed here; which can be done by sustaining the present suit; and when the parties are all before us, we may direct a proper issue to be formed, and tried at the bar. Thus, justice will be done to Georgia, and an irreparable injury may be prevented; while the adverse party, even if he ultimately succeeds, can only complain of a short delay. With this view, I think, that an injunction should be awarded to stay the money in the hands of the marshall, till this court shall make a further order on the subject. \\n Blair, Justice. The State of Georgia seems to have done all that she could to obtain a hearing. An application was made to the Circuit court, in the nature of a claim to interplead; but being refused, her alternative, under all the circumstances of the case, is an appeal to the equitable jurisdiction of the Supreme \\n\\n[2 U.S. 402, 407]\\n\\xa0\\n court. It is true, perhaps, as the counsel has suggested, that the defendant below pleaded the confiscation act of Georgia in bar to the action; but it is a sufficient answer to this argument, that the State was not a party; and no right can be defeated, in law, unless the party claiming it, has himself an opportunity to support it. If the State of Georgia was entitled to the bond, she is equally entitled to the money levied by the marshall in satisfaction of the bond, or rather of the judgment rendered upon it: And as the execution directs the marshall to pay the amount to the plaintiffs below, I can perceive no other mode of preventing a compliance, while we enquire into the right of receiving the money, than that of issuing an injunction to stay it in the hands of the officer. It appears to me to be too early, likewise, to pronounce an opinion upon the titles in collision; since it is enough, on a motion of this kind, to show a colorable title. The State of Georgia has set up her confiscation act, which certainly is a fair foundation for future judicial investigation; and that an injury may not be done, which it may be out of our power to repair, the injunction ought, I think, to issue, till we are enabled, by a full enquiry, to decide upon the whole merits of the case. \\n Wilson, Justice. I confess, that I have not been able to form an opinion which is perfectly satisfactory to my own mind, upon the points that have been discussed. If Georgia has a right to the bond, it is strictly a legal right; but to enforce a strictly legal right, the present seems, at the first blush, to be an awkward and irregular proceeding. Again: Georgia had not a right, or she had a right, to be admitted to a hearing in the Circuit court: but, in the former case, it would be no ground of complaint, that her application was rejected; for, she is bound by the law; and in the other case, she would be entitled to bring the subject before us, as a court of law; since she was refused the exercise of a legal right. It is true, that, under the Federal Constitution, an inferior tribunal cannot compel a State to appear as a party; but it is a very different proposition to say, that a State cannot, by her own consent, appear in any other court, than the Supreme court. The general rule applies among all sovereigns, who, as equals, are not amenable to courts of each other; and yet I remember an action was instututed and sustained, some years ago, in the name of Louis XVI. king of France, against Mr. Robert Morris, in the Supreme court of Pennsylvania. Under these impressions, I am disposed to think, that the State of Georgia ought rather to have sued out a writ of error, than to have asked for an injunction: But still, in the existing \\n\\n[2 U.S. 402, 408]\\n\\xa0\\n circumstances of the case, I have no objection to retain the money within the power of the court, 'till we can better satisfy ourselves both as to the remedy and the right.\\n The Judicial act expressly declares, that 'suits in equity shall not be sustained, in either of the courts of the United States, in any case where plain, adequate, and complete remedy may be had at law.' Now, if Georgia has any right to the debt in question, it is a right at law, for which, of course, the law will furnish a plain, adequate, and complete remedy. The decision of the Circuit court, in a case to which Georgia was neither party nor privy, did not, and could not, take away either the right or the remedy of the State. Nor can Spalding, the defendant below, be made liable twice, for the same debt, without his wilful laches. For, it is in his power to bring a writ of error; and then the whole merits of the claim of Georgia appearing on the record, we must decide it as a question of law, either by affirming or reversing the judgment, so as to bind us in any suit, which Georgia might institute for the same cause.\\n Besides, the State of Georgia (notwithstanding the judgment of the Circuit court) may bring an action of indebitatus assumpsit against Brailsford (who is a man of fortune), after they have received the money, upon the principle of Mofes versus McFarland, and with stronger reason; as in that case the parties, in both courts, were the same; but, in the case proposed, they would be different, and one of them has never been heard. In some form, therefore, Georgia may obtain compleat redress at law.\\n I do not, upon the whole, consider the refusal of Spalding to bring a writ of error (which he is not compellable to bring) nor any other suggestion in the bill, as a sufficient foundation for exercising the equitable jurisdiction of the court; and, consequently, I think that an injunction ought not to be awarded.\\n My first ideas were unfavorable to the motion; but many reasons have been urged, which operate forcibly to produce a change of opinion.\\n The great question turns on the property of a certain bond; whether it belongs to Brailsford, or to Georgia? It is put in suit by Brailsford; but if Georgia, by virtue of the confiscation act, is really entitled to the debt, she is entitled to the money, though the evidence of the debt happened to be in the possession of Brailsford, and though Brailsford has, by that means, obtained a judgment for the amount.\\n Then the only point to be considered is whether, under these circumstances, it is not equitable to stay the money in the \\n\\n[2 U.S. 402, 409]\\n\\xa0\\n hands of the marshall, 'till the right to it is fairly decided; and so avoid the risque of putting the true owner to a suit, for the purpose of recovering it back?\\n For my part, I think that the money should remain in the custody of the law, till the law has adjudged to whom it belongs; and, therefore, I am content, that the injunction issue.\\n This was a motion for a mandamus to be directed to the Circuit Court for the district of Pennsylvania, commanding the said court to proceed in a certain petition of Wm. Hayburn, who had applied to be put on the pension list of the United States, as an invalid pensioner.\\n The principal case arose upon the act of Congress passed the 23rd of March, 1792.\\n The Attorney General (Randolph) who made the motion for the mandamus, having premised that it was done ex officio, without an application from any particular person, but with a view to procure the execution of an act of Congress, particularly interesting to a meritorious and unfortunate class of citizens, the Court declared that they entertained great doubt upon his right, under such circumstances, and in a case of this kind, to proceed, ex officio; and directed him to state the principles on which he attempted to support the right. The Attorney General, accordingly, entered into an elaborate description of the powers and duties of his office:\\n But the Court being divided in opinion on that question, the motion, made ex officio, was not allowed.\\n The Attorney General then changed the ground of his interposition, declaring it to be at the instance, and on behalf of Hayburn, a party interested; and he entered into the merits of the case, upon the act of Congress, and the refusal of the Judges to carry it into effect.\\n The Court observed, that they would hold the motion under advisement, until the next term; but no decision was ever pronounced, as the Legislature, at an intermediate \\n\\n[2 U.S. 402, 410]\\n\\xa0\\n session; provided, in another way, for the relief of the pensioners.* \\n\\n[2 U.S. 402, 411]\\n\\xa0\\n The Circuit court for the district of Pennsylvania, (consisting of Wilson, and Blair, Justices, and Peters, District Judge) made the following representation, in a letter jointly addressed to the President of the United States, on the 18th of April, 1792.\\n The Circuit court for the district of North Carolina, (consisting of Iredell, Justice, and Sitgreaves, District Judge) made the following representation in a letter jointly addressed to the President of the United States, on the 8th of June, 1792.\\n THE Attorney-General having moved for information, relative to the system of practice by which the attorneys and counsellors of this court shall regulate themselves, and of the place in which rules in causes here depending shall be obtained, the CHIEF JUSTICE, at a subsequent day stated, that-\\n THE COURT considers the practice of the courts of King's Bench and Chancery in England, as affording outlines for the practice of this court; and that they will, from time to time, make such alterations therein, as circumstances may render necessary. \\n\\n[\\nFootnote *\\n] See the same case, post. & 3 vol. p. 1. as well on a motion to dissolve the Injunction, as on a trial of the merits, upon a seigned issue. \\n[\\nFootnote *\\n] See an act passed the 28th Feb. 1793. As the reasons assigned by the Judges, for declining to execute the first act of Congress, involve a great Constitutional question, it will not be thought improper to subjoin them, in illustration of Hayburn's case.\\n The Circuit court for the district of New York (consisting of Jay, Chief Justice, Cushing, Justice, and Duane, District Judge) proceeded on the 5th of April, 1791, to take into consideration the act of Congress entitled 'An act to provide for the settlement of the claims of widows, and orphans barred by the limitations heretofore established, and to regulate the claims to invalid pensions;' and were, thereupon, unanimously, of opinion and agreed.\\n[\\nFootnote *\\n] 'The people of the United States have vested in Congress all legislative powers 'granted in the constitution.'\\nThe email address cannot be subscribed. Please try again.\\nLearn more  about FindLaw’s newsletters, including our terms of use and privacy policy.\\n                            \\n                                This site is protected by reCAPTCHA and the Google Privacy Policy and Terms of Service apply.                            \""
      ]
     },
     "execution_count": 10,
     "metadata": {
      "tags": []
     },
     "output_type": "execute_result"
    }
   ],
   "source": [
    "psd['Corpus'][0]"
   ]
  },
  {
   "cell_type": "code",
   "execution_count": 20,
   "metadata": {
    "id": "3b0i_eoYXdLu"
   },
   "outputs": [],
   "source": [
    "import csv\n",
    "l = len(arguments.index)\n",
    "count = 0\n",
    "fields = ['Index','Argument']\n",
    "with open('arguments_list.csv','w',newline='') as csvfile :\n",
    "  writer = csv.writer(csvfile,delimiter=',')\n",
    "  writer.writerow(fields)\n",
    "  for i in range(l):\n",
    "    l1 = list(str(arguments.iloc[i][0]).split('_'))\n",
    "    for l in l1 :\n",
    "      writer.writerow([count,l])\n",
    "      count = count + 1\n",
    "  "
   ]
  },
  {
   "cell_type": "code",
   "execution_count": 3,
   "metadata": {
    "colab": {
     "base_uri": "https://localhost:8080/",
     "height": 204
    },
    "id": "KAEMjskua845",
    "outputId": "9eb910f9-e532-4bbc-fc73-c6f4e3a6e962"
   },
   "outputs": [
    {
     "data": {
      "text/html": [
       "<div>\n",
       "<style scoped>\n",
       "    .dataframe tbody tr th:only-of-type {\n",
       "        vertical-align: middle;\n",
       "    }\n",
       "\n",
       "    .dataframe tbody tr th {\n",
       "        vertical-align: top;\n",
       "    }\n",
       "\n",
       "    .dataframe thead th {\n",
       "        text-align: right;\n",
       "    }\n",
       "</style>\n",
       "<table border=\"1\" class=\"dataframe\">\n",
       "  <thead>\n",
       "    <tr style=\"text-align: right;\">\n",
       "      <th></th>\n",
       "      <th>Arguments</th>\n",
       "    </tr>\n",
       "  </thead>\n",
       "  <tbody>\n",
       "    <tr>\n",
       "      <th>0</th>\n",
       "      <td>A UBI would improve the lives of many people.</td>\n",
       "    </tr>\n",
       "    <tr>\n",
       "      <th>1</th>\n",
       "      <td>A UBI erodes the personal and social incentive...</td>\n",
       "    </tr>\n",
       "    <tr>\n",
       "      <th>2</th>\n",
       "      <td>A UBI promotes social justice, improving the d...</td>\n",
       "    </tr>\n",
       "    <tr>\n",
       "      <th>3</th>\n",
       "      <td>Citizens who live on the UBI may be exclusivel...</td>\n",
       "    </tr>\n",
       "    <tr>\n",
       "      <th>4</th>\n",
       "      <td>UBI improves the physical and mental health of...</td>\n",
       "    </tr>\n",
       "  </tbody>\n",
       "</table>\n",
       "</div>"
      ],
      "text/plain": [
       "                                           Arguments\n",
       "0      A UBI would improve the lives of many people.\n",
       "1  A UBI erodes the personal and social incentive...\n",
       "2  A UBI promotes social justice, improving the d...\n",
       "3  Citizens who live on the UBI may be exclusivel...\n",
       "4  UBI improves the physical and mental health of..."
      ]
     },
     "execution_count": 3,
     "metadata": {},
     "output_type": "execute_result"
    }
   ],
   "source": [
    "import pandas as pd\n",
    "from tqdm import tqdm\n",
    "arguments = pd.read_csv('args.csv')\n",
    "arguments.head()"
   ]
  },
  {
   "cell_type": "code",
   "execution_count": 7,
   "metadata": {
    "colab": {
     "base_uri": "https://localhost:8080/"
    },
    "id": "U6JQSuGCtUL3",
    "outputId": "204330ab-0541-4350-f4b4-5405e73c873e"
   },
   "outputs": [
    {
     "name": "stderr",
     "output_type": "stream",
     "text": [
      "  0%|          | 0/14 [00:00<?, ?it/s]\n",
      "  0%|          | 0/14 [00:00<?, ?it/s]\u001b[A\n",
      "  7%|▋         | 1/14 [00:00<00:07,  1.69it/s]\u001b[A\n",
      " 14%|█▍        | 2/14 [00:01<00:07,  1.53it/s]\u001b[A\n",
      " 21%|██▏       | 3/14 [00:02<00:07,  1.46it/s]\u001b[A\n",
      " 29%|██▊       | 4/14 [00:02<00:06,  1.45it/s]\u001b[A\n",
      " 36%|███▌      | 5/14 [00:03<00:05,  1.54it/s]\u001b[A\n",
      " 43%|████▎     | 6/14 [00:04<00:05,  1.45it/s]\u001b[A\n",
      " 50%|█████     | 7/14 [00:04<00:05,  1.39it/s]\u001b[A\n",
      " 57%|█████▋    | 8/14 [00:05<00:04,  1.37it/s]\u001b[A\n",
      " 64%|██████▍   | 9/14 [00:06<00:03,  1.33it/s]\u001b[A\n",
      " 71%|███████▏  | 10/14 [00:07<00:02,  1.37it/s]\u001b[A\n",
      " 79%|███████▊  | 11/14 [00:07<00:02,  1.39it/s]\u001b[A\n",
      " 86%|████████▌ | 12/14 [00:08<00:01,  1.51it/s]\u001b[A\n",
      " 93%|█████████▎| 13/14 [00:09<00:00,  1.46it/s]\u001b[A\n",
      "100%|██████████| 14/14 [00:10<00:00,  1.39it/s]\u001b[A\n",
      "  7%|▋         | 1/14 [00:10<02:10, 10.05s/it]\n",
      "  0%|          | 0/14 [00:00<?, ?it/s]\u001b[A\n",
      "  7%|▋         | 1/14 [00:00<00:09,  1.41it/s]\u001b[A\n",
      " 14%|█▍        | 2/14 [00:01<00:09,  1.32it/s]\u001b[A\n",
      " 21%|██▏       | 3/14 [00:02<00:08,  1.23it/s]\u001b[A\n",
      " 29%|██▊       | 4/14 [00:03<00:08,  1.22it/s]\u001b[A\n",
      " 36%|███▌      | 5/14 [00:04<00:07,  1.26it/s]\u001b[A\n",
      " 43%|████▎     | 6/14 [00:04<00:06,  1.24it/s]\u001b[A\n",
      " 50%|█████     | 7/14 [00:05<00:05,  1.18it/s]\u001b[A\n",
      " 57%|█████▋    | 8/14 [00:06<00:05,  1.11it/s]\u001b[A\n",
      " 64%|██████▍   | 9/14 [00:08<00:04,  1.03it/s]\u001b[A\n",
      " 71%|███████▏  | 10/14 [00:09<00:03,  1.02it/s]\u001b[A\n",
      " 79%|███████▊  | 11/14 [00:09<00:02,  1.03it/s]\u001b[A\n",
      " 86%|████████▌ | 12/14 [00:10<00:01,  1.11it/s]\u001b[A\n",
      " 93%|█████████▎| 13/14 [00:11<00:00,  1.09it/s]\u001b[A\n",
      "100%|██████████| 14/14 [00:12<00:00,  1.10it/s]\u001b[A\n",
      " 14%|█▍        | 2/14 [00:22<02:10, 10.86s/it]\n",
      "  0%|          | 0/14 [00:00<?, ?it/s]\u001b[A\n",
      "  7%|▋         | 1/14 [00:00<00:08,  1.48it/s]\u001b[A\n",
      " 14%|█▍        | 2/14 [00:01<00:08,  1.37it/s]\u001b[A\n",
      " 21%|██▏       | 3/14 [00:02<00:08,  1.29it/s]\u001b[A\n",
      " 29%|██▊       | 4/14 [00:03<00:07,  1.27it/s]\u001b[A\n",
      " 36%|███▌      | 5/14 [00:03<00:06,  1.29it/s]\u001b[A\n",
      " 43%|████▎     | 6/14 [00:04<00:06,  1.23it/s]\u001b[A\n",
      " 50%|█████     | 7/14 [00:05<00:05,  1.20it/s]\u001b[A\n",
      " 57%|█████▋    | 8/14 [00:06<00:05,  1.18it/s]\u001b[A\n",
      " 64%|██████▍   | 9/14 [00:07<00:04,  1.13it/s]\u001b[A\n",
      " 71%|███████▏  | 10/14 [00:08<00:03,  1.14it/s]\u001b[A\n",
      " 79%|███████▊  | 11/14 [00:09<00:02,  1.16it/s]\u001b[A\n",
      " 86%|████████▌ | 12/14 [00:09<00:01,  1.25it/s]\u001b[A\n",
      " 93%|█████████▎| 13/14 [00:10<00:00,  1.21it/s]\u001b[A\n",
      "100%|██████████| 14/14 [00:11<00:00,  1.17it/s]\u001b[A\n",
      " 21%|██▏       | 3/14 [00:34<02:02, 11.18s/it]\n",
      "  0%|          | 0/14 [00:00<?, ?it/s]\u001b[A\n",
      "  7%|▋         | 1/14 [00:00<00:08,  1.51it/s]\u001b[A\n",
      " 14%|█▍        | 2/14 [00:01<00:08,  1.41it/s]\u001b[A\n",
      " 21%|██▏       | 3/14 [00:02<00:08,  1.35it/s]\u001b[A\n",
      " 29%|██▊       | 4/14 [00:03<00:07,  1.33it/s]\u001b[A\n",
      " 36%|███▌      | 5/14 [00:03<00:06,  1.33it/s]\u001b[A\n",
      " 43%|████▎     | 6/14 [00:04<00:06,  1.29it/s]\u001b[A\n",
      " 50%|█████     | 7/14 [00:05<00:05,  1.26it/s]\u001b[A\n",
      " 57%|█████▋    | 8/14 [00:06<00:04,  1.21it/s]\u001b[A\n",
      " 64%|██████▍   | 9/14 [00:07<00:04,  1.16it/s]\u001b[A\n",
      " 71%|███████▏  | 10/14 [00:08<00:03,  1.16it/s]\u001b[A\n",
      " 79%|███████▊  | 11/14 [00:09<00:02,  1.18it/s]\u001b[A\n",
      " 86%|████████▌ | 12/14 [00:09<00:01,  1.25it/s]\u001b[A\n",
      " 93%|█████████▎| 13/14 [00:10<00:00,  1.23it/s]\u001b[A\n",
      "100%|██████████| 14/14 [00:11<00:00,  1.21it/s]\u001b[A\n",
      " 29%|██▊       | 4/14 [00:46<01:53, 11.31s/it]\n",
      "  0%|          | 0/14 [00:00<?, ?it/s]\u001b[A\n",
      "  7%|▋         | 1/14 [00:00<00:07,  1.67it/s]\u001b[A\n",
      " 14%|█▍        | 2/14 [00:01<00:07,  1.55it/s]\u001b[A\n",
      " 21%|██▏       | 3/14 [00:02<00:07,  1.38it/s]\u001b[A\n",
      " 29%|██▊       | 4/14 [00:02<00:07,  1.39it/s]\u001b[A\n",
      " 36%|███▌      | 5/14 [00:03<00:06,  1.41it/s]\u001b[A\n",
      " 43%|████▎     | 6/14 [00:04<00:05,  1.38it/s]\u001b[A\n",
      " 50%|█████     | 7/14 [00:05<00:05,  1.37it/s]\u001b[A\n",
      " 57%|█████▋    | 8/14 [00:05<00:04,  1.33it/s]\u001b[A\n",
      " 64%|██████▍   | 9/14 [00:06<00:03,  1.27it/s]\u001b[A\n",
      " 71%|███████▏  | 10/14 [00:07<00:03,  1.31it/s]\u001b[A\n",
      " 79%|███████▊  | 11/14 [00:08<00:02,  1.32it/s]\u001b[A\n",
      " 86%|████████▌ | 12/14 [00:08<00:01,  1.43it/s]\u001b[A\n",
      " 93%|█████████▎| 13/14 [00:09<00:00,  1.35it/s]\u001b[A\n",
      "100%|██████████| 14/14 [00:10<00:00,  1.32it/s]\u001b[A\n",
      " 36%|███▌      | 5/14 [00:56<01:39, 11.11s/it]\n",
      "  0%|          | 0/14 [00:00<?, ?it/s]\u001b[A\n",
      "  7%|▋         | 1/14 [00:00<00:09,  1.30it/s]\u001b[A\n",
      " 14%|█▍        | 2/14 [00:01<00:10,  1.16it/s]\u001b[A\n",
      " 21%|██▏       | 3/14 [00:02<00:09,  1.13it/s]\u001b[A\n",
      " 29%|██▊       | 4/14 [00:03<00:08,  1.16it/s]\u001b[A\n",
      " 36%|███▌      | 5/14 [00:04<00:07,  1.21it/s]\u001b[A\n",
      " 43%|████▎     | 6/14 [00:05<00:06,  1.18it/s]\u001b[A\n",
      " 50%|█████     | 7/14 [00:06<00:06,  1.14it/s]\u001b[A\n",
      " 57%|█████▋    | 8/14 [00:07<00:05,  1.11it/s]\u001b[A\n",
      " 64%|██████▍   | 9/14 [00:08<00:04,  1.06it/s]\u001b[A\n",
      " 71%|███████▏  | 10/14 [00:09<00:03,  1.08it/s]\u001b[A\n",
      " 79%|███████▊  | 11/14 [00:10<00:02,  1.06it/s]\u001b[A\n",
      " 86%|████████▌ | 12/14 [00:11<00:01,  1.06it/s]\u001b[A\n",
      " 93%|█████████▎| 13/14 [00:12<00:00,  1.02it/s]\u001b[A\n",
      "100%|██████████| 14/14 [00:13<00:00,  1.05it/s]\u001b[A\n",
      " 43%|████▎     | 6/14 [01:10<01:34, 11.76s/it]\n",
      "  0%|          | 0/14 [00:00<?, ?it/s]\u001b[A\n",
      "  7%|▋         | 1/14 [00:00<00:09,  1.41it/s]\u001b[A\n",
      " 14%|█▍        | 2/14 [00:01<00:09,  1.32it/s]\u001b[A\n",
      " 21%|██▏       | 3/14 [00:02<00:08,  1.26it/s]\u001b[A\n",
      " 29%|██▊       | 4/14 [00:03<00:07,  1.26it/s]\u001b[A\n",
      " 36%|███▌      | 5/14 [00:03<00:06,  1.30it/s]\u001b[A\n",
      " 43%|████▎     | 6/14 [00:04<00:06,  1.24it/s]\u001b[A\n",
      " 50%|█████     | 7/14 [00:05<00:05,  1.21it/s]\u001b[A\n",
      " 57%|█████▋    | 8/14 [00:06<00:05,  1.18it/s]\u001b[A\n",
      " 64%|██████▍   | 9/14 [00:07<00:04,  1.13it/s]\u001b[A\n",
      " 71%|███████▏  | 10/14 [00:08<00:03,  1.14it/s]\u001b[A\n",
      " 79%|███████▊  | 11/14 [00:09<00:02,  1.16it/s]\u001b[A\n",
      " 86%|████████▌ | 12/14 [00:09<00:01,  1.23it/s]\u001b[A\n",
      " 93%|█████████▎| 13/14 [00:11<00:00,  1.13it/s]\u001b[A\n",
      "100%|██████████| 14/14 [00:12<00:00,  1.15it/s]\u001b[A\n",
      " 50%|█████     | 7/14 [01:22<01:23, 11.89s/it]\n",
      "  0%|          | 0/14 [00:00<?, ?it/s]\u001b[A\n",
      "  7%|▋         | 1/14 [00:00<00:12,  1.02it/s]\u001b[A\n",
      " 14%|█▍        | 2/14 [00:02<00:11,  1.00it/s]\u001b[A\n",
      " 21%|██▏       | 3/14 [00:02<00:10,  1.01it/s]\u001b[A\n",
      " 29%|██▊       | 4/14 [00:03<00:09,  1.04it/s]\u001b[A\n",
      " 36%|███▌      | 5/14 [00:04<00:08,  1.11it/s]\u001b[A\n",
      " 43%|████▎     | 6/14 [00:05<00:07,  1.09it/s]\u001b[A\n",
      " 50%|█████     | 7/14 [00:06<00:06,  1.06it/s]\u001b[A\n",
      " 57%|█████▋    | 8/14 [00:07<00:05,  1.06it/s]\u001b[A\n",
      " 64%|██████▍   | 9/14 [00:08<00:04,  1.01it/s]\u001b[A\n",
      " 71%|███████▏  | 10/14 [00:09<00:03,  1.03it/s]\u001b[A\n",
      " 79%|███████▊  | 11/14 [00:10<00:02,  1.04it/s]\u001b[A\n",
      " 86%|████████▌ | 12/14 [00:11<00:01,  1.12it/s]\u001b[A\n",
      " 93%|█████████▎| 13/14 [00:12<00:00,  1.09it/s]\u001b[A\n",
      "100%|██████████| 14/14 [00:13<00:00,  1.05it/s]\u001b[A\n",
      " 57%|█████▋    | 8/14 [01:35<01:13, 12.31s/it]\n",
      "  0%|          | 0/14 [00:00<?, ?it/s]\u001b[A\n",
      "  7%|▋         | 1/14 [00:00<00:10,  1.23it/s]\u001b[A\n",
      " 14%|█▍        | 2/14 [00:01<00:10,  1.17it/s]\u001b[A\n",
      " 21%|██▏       | 3/14 [00:02<00:09,  1.11it/s]\u001b[A\n",
      " 29%|██▊       | 4/14 [00:03<00:09,  1.10it/s]\u001b[A\n",
      " 36%|███▌      | 5/14 [00:04<00:07,  1.14it/s]\u001b[A\n",
      " 43%|████▎     | 6/14 [00:05<00:07,  1.14it/s]\u001b[A\n",
      " 50%|█████     | 7/14 [00:06<00:06,  1.10it/s]\u001b[A\n",
      " 57%|█████▋    | 8/14 [00:07<00:05,  1.05it/s]\u001b[A\n",
      " 64%|██████▍   | 9/14 [00:08<00:05,  1.01s/it]\u001b[A\n",
      " 71%|███████▏  | 10/14 [00:09<00:04,  1.01s/it]\u001b[A\n",
      " 79%|███████▊  | 11/14 [00:10<00:03,  1.02s/it]\u001b[A\n",
      " 86%|████████▌ | 12/14 [00:11<00:01,  1.05it/s]\u001b[A\n",
      " 93%|█████████▎| 13/14 [00:12<00:00,  1.02it/s]\u001b[A\n",
      "100%|██████████| 14/14 [00:13<00:00,  1.02it/s]\u001b[A\n",
      " 64%|██████▍   | 9/14 [01:49<01:03, 12.72s/it]\n",
      "  0%|          | 0/14 [00:00<?, ?it/s]\u001b[A\n",
      "  7%|▋         | 1/14 [00:00<00:08,  1.48it/s]\u001b[A\n",
      " 14%|█▍        | 2/14 [00:01<00:08,  1.37it/s]\u001b[A\n",
      " 21%|██▏       | 3/14 [00:02<00:08,  1.29it/s]\u001b[A\n",
      " 29%|██▊       | 4/14 [00:03<00:07,  1.26it/s]\u001b[A\n",
      " 36%|███▌      | 5/14 [00:03<00:06,  1.30it/s]\u001b[A\n",
      " 43%|████▎     | 6/14 [00:04<00:06,  1.25it/s]\u001b[A\n",
      " 50%|█████     | 7/14 [00:05<00:05,  1.20it/s]\u001b[A\n",
      " 57%|█████▋    | 8/14 [00:06<00:05,  1.20it/s]\u001b[A\n",
      " 64%|██████▍   | 9/14 [00:07<00:04,  1.18it/s]\u001b[A\n",
      " 71%|███████▏  | 10/14 [00:08<00:03,  1.20it/s]\u001b[A\n",
      " 79%|███████▊  | 11/14 [00:09<00:02,  1.18it/s]\u001b[A\n",
      " 86%|████████▌ | 12/14 [00:09<00:01,  1.26it/s]\u001b[A\n",
      " 93%|█████████▎| 13/14 [00:10<00:00,  1.19it/s]\u001b[A\n",
      "100%|██████████| 14/14 [00:11<00:00,  1.18it/s]\u001b[A\n",
      " 71%|███████▏  | 10/14 [02:01<00:49, 12.46s/it]\n",
      "  0%|          | 0/14 [00:00<?, ?it/s]\u001b[A\n",
      "  7%|▋         | 1/14 [00:00<00:09,  1.41it/s]\u001b[A\n",
      " 14%|█▍        | 2/14 [00:01<00:09,  1.30it/s]\u001b[A\n",
      " 21%|██▏       | 3/14 [00:02<00:08,  1.23it/s]\u001b[A\n"
     ]
    },
    {
     "name": "stderr",
     "output_type": "stream",
     "text": [
      " 29%|██▊       | 4/14 [00:03<00:08,  1.21it/s]\u001b[A\n",
      " 36%|███▌      | 5/14 [00:04<00:07,  1.25it/s]\u001b[A\n",
      " 43%|████▎     | 6/14 [00:05<00:06,  1.20it/s]\u001b[A\n",
      " 50%|█████     | 7/14 [00:05<00:06,  1.16it/s]\u001b[A\n",
      " 57%|█████▋    | 8/14 [00:06<00:05,  1.12it/s]\u001b[A\n",
      " 64%|██████▍   | 9/14 [00:07<00:04,  1.08it/s]\u001b[A\n",
      " 71%|███████▏  | 10/14 [00:08<00:03,  1.11it/s]\u001b[A\n",
      " 79%|███████▊  | 11/14 [00:09<00:02,  1.13it/s]\u001b[A\n",
      " 86%|████████▌ | 12/14 [00:10<00:01,  1.22it/s]\u001b[A\n",
      " 93%|█████████▎| 13/14 [00:11<00:00,  1.18it/s]\u001b[A\n",
      "100%|██████████| 14/14 [00:12<00:00,  1.15it/s]\u001b[A\n",
      " 79%|███████▊  | 11/14 [02:13<00:37, 12.38s/it]\n",
      "  0%|          | 0/14 [00:00<?, ?it/s]\u001b[A\n",
      "  7%|▋         | 1/14 [00:00<00:06,  1.93it/s]\u001b[A\n",
      " 14%|█▍        | 2/14 [00:01<00:06,  1.72it/s]\u001b[A\n",
      " 21%|██▏       | 3/14 [00:01<00:06,  1.59it/s]\u001b[A\n",
      " 29%|██▊       | 4/14 [00:02<00:06,  1.57it/s]\u001b[A\n",
      " 36%|███▌      | 5/14 [00:03<00:05,  1.64it/s]\u001b[A\n",
      " 43%|████▎     | 6/14 [00:03<00:05,  1.54it/s]\u001b[A\n",
      " 50%|█████     | 7/14 [00:04<00:04,  1.46it/s]\u001b[A\n",
      " 57%|█████▋    | 8/14 [00:05<00:04,  1.42it/s]\u001b[A\n",
      " 64%|██████▍   | 9/14 [00:06<00:03,  1.34it/s]\u001b[A\n",
      " 71%|███████▏  | 10/14 [00:06<00:02,  1.38it/s]\u001b[A\n",
      " 79%|███████▊  | 11/14 [00:07<00:02,  1.39it/s]\u001b[A\n",
      " 86%|████████▌ | 12/14 [00:08<00:01,  1.54it/s]\u001b[A\n",
      " 93%|█████████▎| 13/14 [00:08<00:00,  1.47it/s]\u001b[A\n",
      "100%|██████████| 14/14 [00:09<00:00,  1.43it/s]\u001b[A\n",
      " 86%|████████▌ | 12/14 [02:23<00:23, 11.61s/it]\n",
      "  0%|          | 0/14 [00:00<?, ?it/s]\u001b[A\n",
      "  7%|▋         | 1/14 [00:00<00:09,  1.33it/s]\u001b[A\n",
      " 14%|█▍        | 2/14 [00:01<00:09,  1.23it/s]\u001b[A\n",
      " 21%|██▏       | 3/14 [00:02<00:09,  1.18it/s]\u001b[A\n",
      " 29%|██▊       | 4/14 [00:03<00:08,  1.17it/s]\u001b[A\n",
      " 36%|███▌      | 5/14 [00:04<00:07,  1.20it/s]\u001b[A\n",
      " 43%|████▎     | 6/14 [00:05<00:06,  1.15it/s]\u001b[A\n",
      " 50%|█████     | 7/14 [00:06<00:06,  1.12it/s]\u001b[A\n",
      " 57%|█████▋    | 8/14 [00:07<00:05,  1.10it/s]\u001b[A\n",
      " 64%|██████▍   | 9/14 [00:08<00:04,  1.05it/s]\u001b[A\n",
      " 71%|███████▏  | 10/14 [00:09<00:03,  1.06it/s]\u001b[A\n",
      " 79%|███████▊  | 11/14 [00:10<00:02,  1.06it/s]\u001b[A\n",
      " 86%|████████▌ | 12/14 [00:10<00:01,  1.13it/s]\u001b[A\n",
      " 93%|█████████▎| 13/14 [00:11<00:00,  1.10it/s]\u001b[A\n",
      "100%|██████████| 14/14 [00:12<00:00,  1.09it/s]\u001b[A\n",
      " 93%|█████████▎| 13/14 [02:36<00:11, 11.99s/it]\n",
      "  0%|          | 0/14 [00:00<?, ?it/s]\u001b[A\n",
      "  7%|▋         | 1/14 [00:00<00:11,  1.12it/s]\u001b[A\n",
      " 14%|█▍        | 2/14 [00:02<00:11,  1.04it/s]\u001b[A\n",
      " 21%|██▏       | 3/14 [00:03<00:11,  1.00s/it]\u001b[A\n",
      " 29%|██▊       | 4/14 [00:04<00:10,  1.01s/it]\u001b[A\n",
      " 36%|███▌      | 5/14 [00:05<00:08,  1.01it/s]\u001b[A\n",
      " 43%|████▎     | 6/14 [00:06<00:08,  1.02s/it]\u001b[A\n",
      " 50%|█████     | 7/14 [00:07<00:07,  1.04s/it]\u001b[A\n",
      " 57%|█████▋    | 8/14 [00:08<00:06,  1.07s/it]\u001b[A\n",
      " 64%|██████▍   | 9/14 [00:09<00:05,  1.11s/it]\u001b[A\n",
      " 71%|███████▏  | 10/14 [00:10<00:04,  1.10s/it]\u001b[A\n",
      " 79%|███████▊  | 11/14 [00:11<00:03,  1.09s/it]\u001b[A\n",
      " 86%|████████▌ | 12/14 [00:12<00:02,  1.03s/it]\u001b[A\n",
      " 93%|█████████▎| 13/14 [00:13<00:01,  1.06s/it]\u001b[A\n",
      "100%|██████████| 14/14 [00:15<00:00,  1.07s/it]\u001b[A\n",
      "100%|██████████| 14/14 [02:51<00:00, 12.23s/it]\n"
     ]
    }
   ],
   "source": [
    "import csv\n",
    "import numpy as np\n",
    "fields = ['attacking argument','attacked argument','support','attack','neutral']\n",
    "with open('arguments_allennlp_legal.csv', 'w', newline='') as csvfile:\n",
    "  writer = csv.writer(csvfile, delimiter=',')\n",
    "  writer.writerow(fields)\n",
    "  for i in tqdm(range(0,len(arguments['Arguments']))):\n",
    "    arg_a = arguments['Arguments'][i]\n",
    "    for j in tqdm(range(0,len(arguments['Arguments']))):\n",
    "      try :\n",
    "        arg_b = arguments['Arguments'][j]\n",
    "        out = predictors(arg_a,arg_b)\n",
    "        support,attack,neutral = out['label_probs'][0],out['label_probs'][1],out['label_probs'][2]\n",
    "        row_data = [i,j,support,attack,neutral]\n",
    "        writer.writerow(row_data)\n",
    "      except TypeError :\n",
    "        continue\n",
    "\n",
    "\n",
    "\n",
    "    \n",
    "\n"
   ]
  },
  {
   "cell_type": "code",
   "execution_count": 6,
   "metadata": {
    "id": "6jfFxq_xt0I1"
   },
   "outputs": [],
   "source": [
    "def predictors(arg_a,arg_b):  \n",
    "  out = predictor.predict(\n",
    "      arg_a,arg_b\n",
    "  )\n",
    "  return out"
   ]
  },
  {
   "cell_type": "code",
   "execution_count": null,
   "metadata": {
    "id": "CRkwOuTEd-Hj"
   },
   "outputs": [],
   "source": []
  }
 ],
 "metadata": {
  "colab": {
   "collapsed_sections": [],
   "name": "allennlp_pipeline.ipynb",
   "provenance": []
  },
  "kernelspec": {
   "display_name": "Python 3",
   "language": "python",
   "name": "python3"
  },
  "language_info": {
   "codemirror_mode": {
    "name": "ipython",
    "version": 3
   },
   "file_extension": ".py",
   "mimetype": "text/x-python",
   "name": "python",
   "nbconvert_exporter": "python",
   "pygments_lexer": "ipython3",
   "version": "3.8.3"
  }
 },
 "nbformat": 4,
 "nbformat_minor": 1
}
